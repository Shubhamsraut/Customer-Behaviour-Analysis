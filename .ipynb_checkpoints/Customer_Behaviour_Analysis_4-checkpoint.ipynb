{
 "cells": [
  {
   "cell_type": "markdown",
   "id": "30438667",
   "metadata": {},
   "source": [
    "### 1. Importing Libraries."
   ]
  },
  {
   "cell_type": "code",
   "execution_count": null,
   "id": "6234d890",
   "metadata": {},
   "outputs": [],
   "source": [
    "# Importing Libraries\n",
    "import numpy as np\n",
    "import pandas as pd\n",
    "\n",
    "# EDA\n",
    "import seaborn as sns\n",
    "import matplotlib.pyplot as plt\n",
    "import plotly.express as px\n",
    "\n",
    "# Pre-processing\n",
    "from sklearn.preprocessing import LabelEncoder\n",
    "from sklearn.preprocessing import StandardScaler\n",
    "from sklearn.decomposition import PCA\n",
    "\n",
    "#Clustering\n",
    "from yellowbrick.cluster import KElbowVisualizer\n",
    "from sklearn.cluster import KMeans\n",
    "\n",
    "import matplotlib.patheffects as path_effects\n",
    "from matplotlib import colors\n",
    "from matplotlib.colors import ListedColormap\n",
    "from mpl_toolkits.mplot3d import Axes3D\n",
    "import plotly.graph_objects as go\n",
    "\n",
    "from sklearn.cluster import AgglomerativeClustering\n",
    "\n",
    "# SVM\n",
    "from sklearn import svm\n",
    "from sklearn.svm import SVC\n",
    "from sklearn.model_selection import GridSearchCV\n",
    "from sklearn.metrics import classification_report\n",
    "\n",
    "from sklearn.metrics import accuracy_score,confusion_matrix\n",
    "from sklearn.model_selection import train_test_split\n",
    "from sklearn.model_selection import cross_val_score\n",
    "\n",
    "#Sweetviz report\n",
    "import sweetviz as sv\n",
    "\n",
    "# Pandas profile\n",
    "from pandas_profiling import ProfileReport\n",
    "\n",
    "# Avoid warnings\n",
    "import warnings\n",
    "warnings.simplefilter(\"ignore\")"
   ]
  },
  {
   "cell_type": "markdown",
   "id": "feb4f70b",
   "metadata": {},
   "source": [
    "### 2. Loading the data set"
   ]
  },
  {
   "cell_type": "code",
   "execution_count": null,
   "id": "dc7bf4d3",
   "metadata": {},
   "outputs": [],
   "source": [
    "# Load data\n",
    "df = pd.read_csv(\"marketing_campaign.csv\", sep = \"\\t\")"
   ]
  },
  {
   "cell_type": "markdown",
   "id": "0b17ac31",
   "metadata": {},
   "source": [
    "# Information about the data set"
   ]
  },
  {
   "cell_type": "markdown",
   "id": "629ca7a7",
   "metadata": {},
   "source": [
    "People\n",
    "●\tID: Customer's unique identifier\n",
    "●\tYear_Birth: Customer's birth year\n",
    "●\tEducation: Customer's education level\n",
    "●\tMarital_Status: Customer's marital status\n",
    "●\tIncome: Customer's yearly household income\n",
    "●\tKidhome: Number of children in customer's household\n",
    "●\tTeenhome: Number of teenagers in customer's household\n",
    "●\tDt_Customer: Date of customer's enrollment with the company\n",
    "●\tRecency: Number of days since customer's last purchase\n",
    "●\tComplain: 1 if the customer complained in the last 2 years, 0 otherwise\n",
    "\n",
    "Products\n",
    "●\tMntWines: Amount spent on wine in last 2 years\n",
    "●\tMntFruits: Amount spent on fruits in last 2 years\n",
    "●\tMntMeatProducts: Amount spent on meat in last 2 years\n",
    "●\tMntFishProducts: Amount spent on fish in last 2 years\n",
    "●\tMntSweetProducts: Amount spent on sweets in last 2 years\n",
    "●\tMntGoldProds: Amount spent on gold in last 2 years\n",
    "\n",
    "Promotion\n",
    "●\tNumDealsPurchases: Number of purchases made with a discount\n",
    "●\tAcceptedCmp1: 1 if customer accepted the offer in the 1st campaign, 0 otherwise\n",
    "●\tAcceptedCmp2: 1 if customer accepted the offer in the 2nd campaign, 0 otherwise\n",
    "●\tAcceptedCmp3: 1 if customer accepted the offer in the 3rd campaign, 0 otherwise\n",
    "●\tAcceptedCmp4: 1 if customer accepted the offer in the 4th campaign, 0 otherwise\n",
    "●\tAcceptedCmp5: 1 if customer accepted the offer in the 5th campaign, 0 otherwise\n",
    "●\tResponse: 1 if customer accepted the offer in the last campaign, 0 otherwise\n",
    "\n",
    "Place\n",
    "●\tNumWebPurchases: Number of purchases made through the company’s website\n",
    "●\tNumCatalogPurchases: Number of purchases made using a catalogue\n",
    "●\tNumStorePurchases: Number of purchases made directly in stores\n",
    "●\tNumWebVisitsMonth: Number of visits to company’s website in the last month"
   ]
  },
  {
   "cell_type": "markdown",
   "id": "af647156",
   "metadata": {},
   "source": [
    "### 3. EDA"
   ]
  },
  {
   "cell_type": "code",
   "execution_count": null,
   "id": "82cde92d",
   "metadata": {},
   "outputs": [],
   "source": [
    "df.head()"
   ]
  },
  {
   "cell_type": "code",
   "execution_count": null,
   "id": "8cb31db5",
   "metadata": {},
   "outputs": [],
   "source": [
    "df.shape"
   ]
  },
  {
   "cell_type": "markdown",
   "id": "88fdeff6",
   "metadata": {},
   "source": [
    "### Pandas Profile Report:"
   ]
  },
  {
   "cell_type": "code",
   "execution_count": null,
   "id": "c89d5dda",
   "metadata": {},
   "outputs": [],
   "source": [
    "# pr = ProfileReport(df)\n",
    "# pr"
   ]
  },
  {
   "cell_type": "code",
   "execution_count": null,
   "id": "114f518a",
   "metadata": {},
   "outputs": [],
   "source": [
    "# # report by sweetviz\n",
    "\n",
    "# my_report = sv.analyze(df)\n",
    "# my_report.show_html()"
   ]
  },
  {
   "cell_type": "code",
   "execution_count": null,
   "id": "51b7ac93",
   "metadata": {},
   "outputs": [],
   "source": [
    "df.sample(5)"
   ]
  },
  {
   "cell_type": "code",
   "execution_count": null,
   "id": "a464b205",
   "metadata": {},
   "outputs": [],
   "source": [
    "# set up to view all the info of the columns\n",
    "pd.set_option('display.max_columns', None)\n",
    "pd.set_option('display.max_rows', None)"
   ]
  },
  {
   "cell_type": "code",
   "execution_count": null,
   "id": "58378a51",
   "metadata": {},
   "outputs": [],
   "source": [
    "df.sample(5)"
   ]
  },
  {
   "cell_type": "code",
   "execution_count": null,
   "id": "a9035f75",
   "metadata": {},
   "outputs": [],
   "source": [
    "options = ['Graduation' ,'PhD'] \n",
    "    \n",
    "# selecting rows based on condition \n",
    "rslt_df = df[(df['ID'] == 4141) & \n",
    "          df['Education'].isin(options)] \n",
    "    \n",
    "print('\\nResult dataframe :\\n',\n",
    "      rslt_df)"
   ]
  },
  {
   "cell_type": "code",
   "execution_count": null,
   "id": "6773c4c5",
   "metadata": {},
   "outputs": [],
   "source": [
    "def basic_info(df):\n",
    "    print(\"This dfset has \", df.shape[1], \" columns and \", df.shape[0], \" rows.\")\n",
    "    print(\"This dfset has \", df[df.duplicated()].shape[0], \" duplicated rows.\")\n",
    "    print(\" \")\n",
    "    print(\"Descriptive statistics of the numeric features in the dfset: \")\n",
    "    print(\" \")\n",
    "    print(df.describe())\n",
    "    print(\" \")\n",
    "    print(\"Information about this dfset: \")\n",
    "    print(\" \")\n",
    "    print(df.info())"
   ]
  },
  {
   "cell_type": "code",
   "execution_count": null,
   "id": "1656a084",
   "metadata": {},
   "outputs": [],
   "source": [
    "basic_info(df)"
   ]
  },
  {
   "cell_type": "code",
   "execution_count": null,
   "id": "0581148b",
   "metadata": {},
   "outputs": [],
   "source": [
    "df.median()"
   ]
  },
  {
   "cell_type": "code",
   "execution_count": null,
   "id": "18a8ef1c",
   "metadata": {},
   "outputs": [],
   "source": [
    "df_copy = df.copy()"
   ]
  },
  {
   "cell_type": "code",
   "execution_count": null,
   "id": "f3f6344d",
   "metadata": {},
   "outputs": [],
   "source": [
    "# Divide the data into two dataframes: one has income values, and the other doesn't.\n",
    "have_income = df_copy[df_copy.Income.isnull()== False]\n",
    "missing_income = df_copy[df_copy.Income.isnull()== True]"
   ]
  },
  {
   "cell_type": "code",
   "execution_count": null,
   "id": "f87a4bea",
   "metadata": {},
   "outputs": [],
   "source": [
    "df_copy.info()"
   ]
  },
  {
   "cell_type": "code",
   "execution_count": null,
   "id": "bb5e1850",
   "metadata": {},
   "outputs": [],
   "source": [
    "# Convert the one that has income to int type\n",
    "have_income.Income = have_income.Income.astype('int64')\n",
    "\n",
    "# Give a string value of \"0\" to missing value, then we can convert it into int type\n",
    "missing_income.Income = str(have_income.Income.median())\n",
    "\n",
    "# Coverting String and Float dtypes to int dtype\n",
    "missing_income.Income = missing_income.Income.str.replace(\".5\", \"\")\n",
    "missing_income.Income = missing_income.Income.astype('int64')"
   ]
  },
  {
   "cell_type": "code",
   "execution_count": null,
   "id": "b1aad926",
   "metadata": {},
   "outputs": [],
   "source": [
    "# Combine the data\n",
    "df_copy = missing_income.append(have_income)"
   ]
  },
  {
   "cell_type": "code",
   "execution_count": null,
   "id": "985f1b8f",
   "metadata": {},
   "outputs": [],
   "source": [
    "options = ['Graduation' ,'PhD','2n Cycle','Master'] \n",
    "    \n",
    "# selecting rows based on condition \n",
    "rslt_df = df_copy[(df_copy['ID'] == 5250) & \n",
    "          df_copy['Education'].isin(options)] \n",
    "    \n",
    "print('\\nResult dataframe :\\n',\n",
    "      rslt_df)"
   ]
  },
  {
   "cell_type": "code",
   "execution_count": null,
   "id": "dc253e33",
   "metadata": {},
   "outputs": [],
   "source": [
    "df_copy.info()"
   ]
  },
  {
   "cell_type": "markdown",
   "id": "56a45039",
   "metadata": {},
   "source": [
    "#### 3.1 Issue regarding date "
   ]
  },
  {
   "cell_type": "code",
   "execution_count": null,
   "id": "bb89cdf9",
   "metadata": {},
   "outputs": [],
   "source": [
    "# This function converts a scalar, array-like, Series or DataFrame/dict-like to a pandas datetime object.\n",
    "df_copy.Dt_Customer = pd.to_datetime(df_copy.Dt_Customer)"
   ]
  },
  {
   "cell_type": "code",
   "execution_count": null,
   "id": "4c4e45b4",
   "metadata": {},
   "outputs": [],
   "source": [
    "df_copy.info()"
   ]
  },
  {
   "cell_type": "markdown",
   "id": "f98c2c9b",
   "metadata": {},
   "source": [
    "#### 3.2 Reset the index"
   ]
  },
  {
   "cell_type": "code",
   "execution_count": null,
   "id": "b0b1c502",
   "metadata": {},
   "outputs": [],
   "source": [
    "# Reset the index\n",
    "df_1 = df_copy.reset_index(drop=True)"
   ]
  },
  {
   "cell_type": "code",
   "execution_count": null,
   "id": "a2a73715",
   "metadata": {},
   "outputs": [],
   "source": [
    "df_1.sample(5)"
   ]
  },
  {
   "cell_type": "code",
   "execution_count": null,
   "id": "61220ac3",
   "metadata": {
    "scrolled": true
   },
   "outputs": [],
   "source": [
    "df_1.info()"
   ]
  },
  {
   "cell_type": "markdown",
   "id": "bdd2e86d",
   "metadata": {},
   "source": [
    "### 3.3 Visualizations"
   ]
  },
  {
   "cell_type": "markdown",
   "id": "c7880a6a",
   "metadata": {},
   "source": [
    "#### 3.3.1 Finding and treating the outliers"
   ]
  },
  {
   "cell_type": "code",
   "execution_count": null,
   "id": "d00cd353",
   "metadata": {},
   "outputs": [],
   "source": [
    "# select columns to plot\n",
    "# Dropping the categorical columns/ un-useful columns(ID) --> to plot outliers\n",
    "df_1_to_plot = df_1.drop(columns=['ID', 'AcceptedCmp1', 'AcceptedCmp2', 'AcceptedCmp3', 'AcceptedCmp4', 'AcceptedCmp5', 'Response', 'Complain','Z_CostContact','Z_Revenue']).select_dtypes(include=np.number)\n",
    "\n",
    "# subplots: layout=(rows,columns) ; kind='Type of boxblot' ; patch_artist=True (To fill the boxplot with colour)\n",
    "df_1_to_plot.plot(subplots=True, layout=(5,5), kind='box', figsize=(15,20), patch_artist=True)\n",
    "\n",
    "plt.suptitle('Find Outliers', fontsize=15, y=0.9)\n",
    "plt.savefig('boxplots.png', bbox_inches='tight')"
   ]
  },
  {
   "cell_type": "markdown",
   "id": "e9e2b587",
   "metadata": {},
   "source": [
    "#### Treating outliers (using emperical formula (µ - 3σ) )"
   ]
  },
  {
   "cell_type": "code",
   "execution_count": null,
   "id": "732cb111",
   "metadata": {},
   "outputs": [],
   "source": [
    "df_1.Year_Birth.describe()"
   ]
  },
  {
   "cell_type": "code",
   "execution_count": null,
   "id": "c4057c7a",
   "metadata": {},
   "outputs": [],
   "source": [
    "# Remove outliers in year_birth -->(µ - 3σ)\n",
    "\n",
    "df_1 = df_1[df_1.Year_Birth >= (df_1.Year_Birth.mean()-3*df_1.Year_Birth.std())]\n",
    "df_1.Year_Birth.describe()"
   ]
  },
  {
   "cell_type": "code",
   "execution_count": null,
   "id": "384ba338",
   "metadata": {},
   "outputs": [],
   "source": [
    "# Outliers after treating on them\n",
    "df_1_to_plot = df_1.drop(columns=['ID', 'AcceptedCmp1', 'AcceptedCmp2', 'AcceptedCmp3', 'AcceptedCmp4', 'AcceptedCmp5', 'Response', 'Complain','Z_CostContact','Z_Revenue']).select_dtypes(include=np.number)\n",
    "\n",
    "# subplots: layout=(rows,columns) ; kind='Type of boxblot' ; patch_artist=True (To fill the boxplot with colour)\n",
    "df_1_to_plot.plot(subplots=True, layout=(5,5), kind='box', figsize=(15,20), patch_artist=True)\n",
    "\n",
    "plt.suptitle('Find Outliers', fontsize=15, y=0.9)\n",
    "plt.savefig('boxplots.png', bbox_inches='tight')"
   ]
  },
  {
   "cell_type": "code",
   "execution_count": null,
   "id": "c08a6d1c",
   "metadata": {},
   "outputs": [],
   "source": [
    "#Dropping some of the redundant features\n",
    "to_drop = [\"Z_CostContact\", \"Z_Revenue\"]\n",
    "df_1 = df_1.drop(to_drop, axis=1)"
   ]
  },
  {
   "cell_type": "code",
   "execution_count": null,
   "id": "d2991200",
   "metadata": {},
   "outputs": [],
   "source": [
    "# Outliers after treating on them\n",
    "df_2_to_plot = df_1.drop(columns=['AcceptedCmp1', 'AcceptedCmp2', 'AcceptedCmp3', 'AcceptedCmp4', 'AcceptedCmp5', 'Response', 'Complain']).select_dtypes(include=np.number)\n",
    "\n",
    "# subplots: layout=(rows,columns) ; kind='Type of boxblot' ; patch_artist=True (To fill the boxplot with colour)\n",
    "df_2_to_plot.plot(subplots=True, layout=(5,5), kind='box', figsize=(15,20), patch_artist=True)\n",
    "\n",
    "plt.suptitle('Find Outliers', fontsize=15, y=0.9)\n",
    "plt.savefig('boxplots.png', bbox_inches='tight')"
   ]
  },
  {
   "cell_type": "code",
   "execution_count": null,
   "id": "b7e4e81b",
   "metadata": {},
   "outputs": [],
   "source": [
    "#Dropping the outliers by setting a cap on income. \n",
    "df_1 =df_1[(df_1[\"Income\"]<600000)]\n",
    "print(\"The total number points after removing the outliers are:\", len(df_1))"
   ]
  },
  {
   "cell_type": "code",
   "execution_count": null,
   "id": "425257a1",
   "metadata": {},
   "outputs": [],
   "source": [
    "# Outliers after treatting on them\n",
    "df_2_to_plot = df_1.drop(columns=['AcceptedCmp1', 'AcceptedCmp2', 'AcceptedCmp3', 'AcceptedCmp4', 'AcceptedCmp5', 'Response', 'Complain']).select_dtypes(include=np.number)\n",
    "\n",
    "# subplots: layout=(rows,columns) ; kind='Type of boxblot' ; patch_artist=True (To fill the boxplot with colour)\n",
    "df_2_to_plot.plot(subplots=True, layout=(5,5), kind='box', figsize=(15,20), patch_artist=True)\n",
    "\n",
    "plt.suptitle('Find Outliers', fontsize=15, y=0.9)\n",
    "plt.savefig('boxplots.png', bbox_inches='tight')"
   ]
  },
  {
   "cell_type": "code",
   "execution_count": null,
   "id": "0e1d2113",
   "metadata": {},
   "outputs": [],
   "source": [
    "df_1.sample(5)"
   ]
  },
  {
   "cell_type": "code",
   "execution_count": null,
   "id": "545d8240",
   "metadata": {
    "scrolled": true
   },
   "outputs": [],
   "source": [
    "df_1.info()"
   ]
  },
  {
   "cell_type": "code",
   "execution_count": null,
   "id": "ea06d977",
   "metadata": {},
   "outputs": [],
   "source": [
    "#correlation matrix\n",
    "\n",
    "cmap =ListedColormap([\"#682F2F\", \"#9E726F\", \"#D6B2B1\", \"#B9C0C9\", \"#9F8A78\", \"#F3AB60\"])\n",
    "\n",
    "corrmat= df_1.corr()\n",
    "plt.figure(figsize=(20,20))  \n",
    "sns.heatmap(corrmat,annot=True, cmap=cmap, center=0)"
   ]
  },
  {
   "cell_type": "code",
   "execution_count": null,
   "id": "79c807a2",
   "metadata": {},
   "outputs": [],
   "source": [
    "# Run discriptive statistics of numerical datatypes.\n",
    "df_1.describe(include = ['float64','int64'])"
   ]
  },
  {
   "cell_type": "code",
   "execution_count": null,
   "id": "d5713f21",
   "metadata": {},
   "outputs": [],
   "source": [
    "# Lets Display Count on top of countplot\n",
    "\n",
    "fig, ax1 = plt.subplots(figsize=(5,5))\n",
    "graph = sns.countplot(ax=ax1,x='Education', data=df_1)\n",
    "graph.set_xticklabels(graph.get_xticklabels(),rotation=90)\n",
    "for p in graph.patches:\n",
    "    height = p.get_height()\n",
    "    graph.text(p.get_x()+p.get_width()/2., height + 0.1,height ,ha=\"center\")"
   ]
  },
  {
   "cell_type": "code",
   "execution_count": null,
   "id": "dcaf3d0c",
   "metadata": {},
   "outputs": [],
   "source": []
  },
  {
   "cell_type": "code",
   "execution_count": null,
   "id": "26ec1ec2",
   "metadata": {},
   "outputs": [],
   "source": []
  },
  {
   "cell_type": "markdown",
   "id": "1206c925",
   "metadata": {},
   "source": [
    "#### 3.3.2 Analysis -->\n",
    "a) Uni-Variate Analysis\n",
    "b) Bi-Variate Analysis\n",
    "c) Multi-Variate Analysis"
   ]
  },
  {
   "cell_type": "code",
   "execution_count": null,
   "id": "47617824",
   "metadata": {},
   "outputs": [],
   "source": [
    "#Feature Engineering\n",
    "#Age of customer today \n",
    "df_1[\"Age\"] = 2021-df_1[\"Year_Birth\"]\n",
    "\n",
    "#Total spendings on various items\n",
    "df_1[\"Total_Spent\"] = df_1[\"MntWines\"]+ df_1[\"MntFruits\"]+ df_1[\"MntMeatProducts\"]+ df_1[\"MntFishProducts\"]+ df_1[\"MntSweetProducts\"]+ df_1[\"MntGoldProds\"]\n",
    "\n",
    "#Deriving living situation by marital status\"Alone\"\n",
    "df_1[\"Living_With\"]=df_1[\"Marital_Status\"].replace({\"Married\":\"Partner\", \"Together\":\"Partner\", \"Absurd\":\"Alone\", \"Widow\":\"Alone\", \"YOLO\":\"Alone\", \"Divorced\":\"Alone\", \"Single\":\"Alone\",})\n",
    "\n",
    "#Feature indicating total children living in the household\n",
    "df_1[\"Children\"]=df_1[\"Kidhome\"]+df_1[\"Teenhome\"]\n",
    "\n",
    "#Feature for total members in the householde\n",
    "df_1[\"Family_Size\"] = df_1[\"Living_With\"].replace({\"Alone\": 1, \"Partner\":2})+ df_1[\"Children\"]\n",
    "\n",
    "#Feature pertaining parenthood\n",
    "df_1[\"Is_Parent\"] = np.where(df_1.Children> 0, 1, 0)\n",
    "\n",
    "#Segmenting education levels in three groups\n",
    "df_1[\"Education\"]=df_1[\"Education\"].replace({\"Basic\":\"Undergraduate\",\"2n Cycle\":\"Undergraduate\", \"Graduation\":\"Graduate\", \"Master\":\"Postgraduate\", \"PhD\":\"Postgraduate\"})\n",
    "\n",
    "#For clarity\n",
    "df_1=df_1.rename(columns={\"MntWines\": \"Wines\",\"MntFruits\":\"Fruits\",\"MntMeatProducts\":\"Meat\",\"MntFishProducts\":\"Fish\",\"MntSweetProducts\":\"Sweets\",\"MntGoldProds\":\"Gold\"})\n",
    "\n"
   ]
  },
  {
   "cell_type": "code",
   "execution_count": null,
   "id": "2948c6cb",
   "metadata": {},
   "outputs": [],
   "source": [
    "df_1[\"Join_year\"] = df_1.Dt_Customer.dt.year\n",
    "df_1[\"Join_month\"] = df_1.Dt_Customer.dt.month\n",
    "df_1[\"Join_weekday\"] = df_1.Dt_Customer.dt.weekday\n",
    "\n",
    "df_1['Total_num_purchase'] = df_1.NumDealsPurchases+ df_1.NumWebPurchases+ df_1.NumCatalogPurchases+ df_1.NumStorePurchases+ df_1.NumWebVisitsMonth \n",
    "df_1['Total_accept'] = df_1.AcceptedCmp1 + df_1.AcceptedCmp2 + df_1.AcceptedCmp2 + df_1.AcceptedCmp2  + df_1.AcceptedCmp3 + df_1.AcceptedCmp4 + df_1.AcceptedCmp5 + df_1.Response"
   ]
  },
  {
   "cell_type": "code",
   "execution_count": null,
   "id": "bbe05e01",
   "metadata": {},
   "outputs": [],
   "source": [
    "# Run discriptive statistics of numerical datatypes.\n",
    "df_1.describe(include = ['float64','int64'])"
   ]
  },
  {
   "cell_type": "code",
   "execution_count": null,
   "id": "9fc0ee61",
   "metadata": {},
   "outputs": [],
   "source": [
    "df_1[\"Income\"].value_counts()"
   ]
  },
  {
   "cell_type": "code",
   "execution_count": null,
   "id": "c1c0667a",
   "metadata": {},
   "outputs": [],
   "source": [
    "# Lets Display Count on top of countplot\n",
    "\n",
    "fig, ax1 = plt.subplots(figsize=(5,5))\n",
    "graph = sns.countplot(ax=ax1,x='Education', data=df_1)\n",
    "graph.set_xticklabels(graph.get_xticklabels(),rotation=90)\n",
    "for p in graph.patches:\n",
    "    height = p.get_height()\n",
    "    graph.text(p.get_x()+p.get_width()/2., height + 0.1,height ,ha=\"center\")"
   ]
  },
  {
   "cell_type": "code",
   "execution_count": null,
   "id": "ab068a4f",
   "metadata": {},
   "outputs": [],
   "source": [
    "# Lets Display Count on top of countplot\n",
    "\n",
    "fig, ax1 = plt.subplots(figsize=(5,5))\n",
    "graph = sns.countplot(ax=ax1,x='Living_With', data=df_1)\n",
    "graph.set_xticklabels(graph.get_xticklabels(),rotation=90)\n",
    "for p in graph.patches:\n",
    "    height = p.get_height()\n",
    "    graph.text(p.get_x()+p.get_width()/2., height + 0.1,height ,ha=\"center\")"
   ]
  },
  {
   "cell_type": "code",
   "execution_count": null,
   "id": "b5bef1e2",
   "metadata": {},
   "outputs": [],
   "source": [
    "# Lets Display Count on top of countplot\n",
    "\n",
    "fig, ax1 = plt.subplots(figsize=(5,5))\n",
    "graph = sns.countplot(ax=ax1,x='Children', data=df_1)\n",
    "graph.set_xticklabels(graph.get_xticklabels(),rotation=90)\n",
    "for p in graph.patches:\n",
    "    height = p.get_height()\n",
    "    graph.text(p.get_x()+p.get_width()/2., height + 0.1,height ,ha=\"center\")"
   ]
  },
  {
   "cell_type": "code",
   "execution_count": null,
   "id": "6c0e841a",
   "metadata": {},
   "outputs": [],
   "source": [
    "# Lets Display Count on top of countplot\n",
    "\n",
    "fig, ax1 = plt.subplots(figsize=(5,5))\n",
    "graph = sns.countplot(ax=ax1,x='Join_weekday', data=df_1)\n",
    "graph.set_xticklabels(graph.get_xticklabels(),rotation=90)\n",
    "for p in graph.patches:\n",
    "    height = p.get_height()\n",
    "    graph.text(p.get_x()+p.get_width()/2., height + 0.1,height ,ha=\"center\")"
   ]
  },
  {
   "cell_type": "code",
   "execution_count": null,
   "id": "e9f0cd6f",
   "metadata": {},
   "outputs": [],
   "source": [
    "# Lets Display Count on top of countplot\n",
    "\n",
    "fig, ax1 = plt.subplots(figsize=(5,5))\n",
    "graph = sns.countplot(ax=ax1,x='Join_month', data=df_1)\n",
    "graph.set_xticklabels(graph.get_xticklabels())\n",
    "for p in graph.patches:\n",
    "    height = p.get_height()\n",
    "    graph.text(p.get_x()+p.get_width()/2., height + 0.1,height ,ha=\"center\")"
   ]
  },
  {
   "cell_type": "code",
   "execution_count": null,
   "id": "3afef806",
   "metadata": {},
   "outputs": [],
   "source": [
    "# Creating dataset\n",
    "months = [\"January\",\"February\",\"March\",\"April\",\"May\",\"June\",\"July\",\"August\",\"September\",\"October\",\"November\",\"December\"]\n",
    "\n",
    "data = [191,187,202,184,191,170,141,211,164,209,185,202]\n",
    "\n",
    "\n",
    "# Creating explode data\n",
    "explode = (0.0, 0.0, 0.0, 0.0, 0.0, 0.0,0.25,0.3,0.0,0.0,0.0,0.0)\n",
    "\n",
    "# Creating color parameters\n",
    "colors = ( \"orange\", \"cyan\", \"brown\",\"grey\", \"indigo\", \"beige\",\"blue\",\"yellow\",\"violet\",\"pink\",\"purple\",\"green\")\n",
    "\n",
    "# Wedge properties\n",
    "wp = { 'linewidth' : 1, 'edgecolor' : \"green\" }\n",
    "\n",
    "# Creating autocpt arguments\n",
    "def func(pct, allvalues):\n",
    "    absolute = int(pct / 100.*np.sum(allvalues))\n",
    "    return \"{:.1f}%\\n({:d})\".format(pct, absolute)\n",
    "\n",
    "# Creating plot\n",
    "fig, ax = plt.subplots(figsize =(10, 7))\n",
    "wedges, texts, autotexts = ax.pie(data,\n",
    "autopct = lambda pct: func(pct, data),\n",
    "explode = explode,\n",
    "labels = months,\n",
    "shadow = True,\n",
    "colors = colors,\n",
    "startangle = 90,\n",
    "wedgeprops = wp,\n",
    "textprops = dict(color =\"black\"))\n",
    "\n",
    "# Adding legend\n",
    "ax.legend(wedges, months,\n",
    "title =\"Months\",\n",
    "loc =\"center left\",\n",
    "bbox_to_anchor =(1.3, 0, 0.5, 1))\n",
    "\n",
    "plt.setp(autotexts, size = 8, weight =\"bold\")\n",
    "ax.set_title(\"Customizing pie chart\")\n",
    "\n",
    "# show plot\n",
    "plt.show()\n"
   ]
  },
  {
   "cell_type": "code",
   "execution_count": null,
   "id": "46ae4a23",
   "metadata": {},
   "outputs": [],
   "source": [
    "# Lets Display Count on top of countplot\n",
    "\n",
    "fig, ax1 = plt.subplots(figsize=(5,5))\n",
    "graph = sns.countplot(ax=ax1,x='Join_year', data=df_1)\n",
    "graph.set_xticklabels(graph.get_xticklabels())\n",
    "for p in graph.patches:\n",
    "    height = p.get_height()\n",
    "    graph.text(p.get_x()+p.get_width()/2., height + 0.1,height ,ha=\"center\")"
   ]
  },
  {
   "cell_type": "code",
   "execution_count": null,
   "id": "7ac0fb1a",
   "metadata": {},
   "outputs": [],
   "source": [
    "# Combined univariate analysis of each variables\n",
    "fig,axes = plt.subplots(2,4, figsize=(16,10))\n",
    "sns.countplot('Education',data=df_1,ax=axes[0,0])\n",
    "sns.countplot('Marital_Status',data=df_1,ax=axes[0,1])\n",
    "sns.countplot('Children',data=df_1,ax=axes[0,2])\n",
    "sns.countplot('Join_weekday',data=df_1,ax=axes[0,3])\n",
    "sns.countplot('Join_month',data=df_1,ax=axes[1,0])\n",
    "sns.countplot('Join_year',data=df_1,ax=axes[1,1])\n",
    "\n",
    "#sns.distplot(df_train['Fare'], kde=True,ax=axes[1,2])\n",
    "sns.histplot(data=df_1,x=\"Total_Spent\",ax=axes[1,2])\n",
    "sns.histplot(data=df_1,x=\"Income\",ax=axes[1,3] )\n"
   ]
  },
  {
   "cell_type": "markdown",
   "id": "62afa0b6",
   "metadata": {},
   "source": [
    "### Bivariate Analysis"
   ]
  },
  {
   "cell_type": "markdown",
   "id": "53805296",
   "metadata": {},
   "source": [
    "We perform bi-variate analysis with 2 variables for any combination of categorical and continuous variables.\n",
    "The combination can be: Categorical & Categorical, Categorical & Continuous and Continuous & Continuous."
   ]
  },
  {
   "cell_type": "code",
   "execution_count": null,
   "id": "67233206",
   "metadata": {},
   "outputs": [],
   "source": [
    "# Lets more elaborate customer behaviour with Education and Income --> use catplot or countplot\n",
    "'''\n",
    "fig, ax1 = plt.subplots(figsize=(5,5))\n",
    "graph = sns.countplot(ax=ax1,x='Education',hue=\"Minorhome\",data=df_1)\n",
    "graph.set_xticklabels(graph.get_xticklabels(),rotation=90)\n",
    "for p in graph.patches:\n",
    "    height = p.get_height()\n",
    "    graph.text(p.get_x()+p.get_width()/2., height + 0.1,height ,ha=\"center\")\n",
    "'''\n",
    "\n",
    "sns.catplot(x=\"Education\",col=\"Children\",data=df_1, kind=\"count\",height=4, aspect =.7)"
   ]
  },
  {
   "cell_type": "code",
   "execution_count": null,
   "id": "f3430318",
   "metadata": {},
   "outputs": [],
   "source": [
    "# Lets more elaborate customer behaviour with Education and Income --> use catplot or countplot\n",
    "\n",
    "sns.catplot(x=\"Education\",col=\"Join_weekday\",data=df_1, kind=\"count\",height=4, aspect =.7)"
   ]
  },
  {
   "cell_type": "code",
   "execution_count": null,
   "id": "de0c1390",
   "metadata": {},
   "outputs": [],
   "source": [
    "# Lets more elaborate customer behaviour with Teenhome and Total_Spent --> use catplot or countplot\n",
    "'''\n",
    "fig, ax1 = plt.subplots(figsize=(5,5))\n",
    "graph = sns.countplot(ax=ax1,x='Total_Spent',hue=\"Teenhome\",data=new_df)\n",
    "graph.set_xticklabels(graph.get_xticklabels(),rotation=90)\n",
    "for p in graph.patches:\n",
    "    height = p.get_height()\n",
    "    graph.text(p.get_x()+p.get_width()/2., height + 0.1,height ,ha=\"center\")\n",
    "'''\n",
    "\n",
    "sns.catplot(x=\"Total_Spent\",col=\"Teenhome\",data=df_1, kind=\"count\",height=4, aspect =.7)"
   ]
  },
  {
   "cell_type": "code",
   "execution_count": null,
   "id": "40c50f69",
   "metadata": {
    "scrolled": true
   },
   "outputs": [],
   "source": [
    "fig, ax1 = plt.subplots(figsize=(10,7))\n",
    "\n",
    "def main():\n",
    "    sns.set_style(\"whitegrid\")\n",
    "    tips = df_1\n",
    "    # optionally disable fliers\n",
    "    showfliers = True\n",
    "    # plot data and create median labels\n",
    "    box_plot = sns.boxplot(ax=ax1, x='Living_With', y='Income', hue='Education', data=df_1,\n",
    "                           showfliers=showfliers)\n",
    "    create_median_labels(box_plot.axes, showfliers)\n",
    "    plt.show()\n",
    "\n",
    "\n",
    "def create_median_labels(ax, has_fliers):\n",
    "    lines = ax.get_lines()\n",
    "    # depending on fliers, toggle between 5 and 6 lines per box\n",
    "    lines_per_box = 5 + int(has_fliers)\n",
    "    # iterate directly over all median lines, with an interval of lines_per_box\n",
    "    # this enables labeling of grouped data without relying on tick positions\n",
    "    for median_line in lines[4:len(lines):lines_per_box]:\n",
    "        # get center of median line\n",
    "        mean_x = sum(median_line._x) / len(median_line._x)\n",
    "        mean_y = sum(median_line._y) / len(median_line._y)\n",
    "        # print text to center coordinates\n",
    "        text = ax.text(mean_x, mean_y, f'{mean_y:.1f}',\n",
    "                       ha='center', va='center',\n",
    "                       fontweight='bold', size=10, color='white')\n",
    "        # create small black border around white text\n",
    "        # for better readability on multi-colored boxes\n",
    "        text.set_path_effects([\n",
    "            path_effects.Stroke(linewidth=3, foreground='black'),\n",
    "            path_effects.Normal(),\n",
    "        ])\n",
    "\n",
    "\n",
    "if __name__ == '__main__':\n",
    "    main()"
   ]
  },
  {
   "cell_type": "code",
   "execution_count": null,
   "id": "95807d36",
   "metadata": {},
   "outputs": [],
   "source": [
    "fig, ax1 = plt.subplots(figsize=(10,7))\n",
    "\n",
    "def main():\n",
    "    sns.set_style(\"whitegrid\")\n",
    "    tips = df_1\n",
    "    # optionally disable fliers\n",
    "    showfliers = True\n",
    "    # plot data and create median labels\n",
    "    box_plot = sns.boxplot(ax=ax1, x='Children', y='Income', hue='Living_With', data=df_1,\n",
    "                           showfliers=showfliers)\n",
    "    create_median_labels(box_plot.axes, showfliers)\n",
    "    plt.show()\n",
    "\n",
    "\n",
    "def create_median_labels(ax, has_fliers):\n",
    "    lines = ax.get_lines()\n",
    "    # depending on fliers, toggle between 5 and 6 lines per box\n",
    "    lines_per_box = 5 + int(has_fliers)\n",
    "    # iterate directly over all median lines, with an interval of lines_per_box\n",
    "    # this enables labeling of grouped data without relying on tick positions\n",
    "    for median_line in lines[4:len(lines):lines_per_box]:\n",
    "        # get center of median line\n",
    "        mean_x = sum(median_line._x) / len(median_line._x)\n",
    "        mean_y = sum(median_line._y) / len(median_line._y)\n",
    "        # print text to center coordinates\n",
    "        text = ax.text(mean_x, mean_y, f'{mean_y:.1f}',\n",
    "                       ha='center', va='center',\n",
    "                       fontweight='bold', size=10, color='white')\n",
    "        # create small black border around white text\n",
    "        # for better readability on multi-colored boxes\n",
    "        text.set_path_effects([\n",
    "            path_effects.Stroke(linewidth=3, foreground='black'),\n",
    "            path_effects.Normal(),\n",
    "        ])\n",
    "\n",
    "\n",
    "if __name__ == '__main__':\n",
    "    main()"
   ]
  },
  {
   "cell_type": "code",
   "execution_count": null,
   "id": "24ce46ab",
   "metadata": {},
   "outputs": [],
   "source": [
    "fig, ax1 = plt.subplots(figsize=(10,7))\n",
    "\n",
    "def main():\n",
    "    sns.set_style(\"whitegrid\")\n",
    "    tips = df_1\n",
    "    # optionally disable fliers\n",
    "    showfliers = True\n",
    "    # plot data and create median labels\n",
    "    box_plot = sns.boxplot(ax=ax1, x='Children', y='Total_Spent', hue='Family_Size', data=df_1,\n",
    "                           showfliers=showfliers)\n",
    "    create_median_labels(box_plot.axes, showfliers)\n",
    "    plt.show()\n",
    "\n",
    "\n",
    "def create_median_labels(ax, has_fliers):\n",
    "    lines = ax.get_lines()\n",
    "    # depending on fliers, toggle between 5 and 6 lines per box\n",
    "    lines_per_box = 5 + int(has_fliers)\n",
    "    # iterate directly over all median lines, with an interval of lines_per_box\n",
    "    # this enables labeling of grouped data without relying on tick positions\n",
    "    for median_line in lines[4:len(lines):lines_per_box]:\n",
    "        # get center of median line\n",
    "        mean_x = sum(median_line._x) / len(median_line._x)\n",
    "        mean_y = sum(median_line._y) / len(median_line._y)\n",
    "        # print text to center coordinates\n",
    "        text = ax.text(mean_x, mean_y, f'{mean_y:.1f}',\n",
    "                       ha='center', va='center',\n",
    "                       fontweight='bold', size=10, color='white')\n",
    "        # create small black border around white text\n",
    "        # for better readability on multi-colored boxes\n",
    "        text.set_path_effects([\n",
    "            path_effects.Stroke(linewidth=3, foreground='black'),\n",
    "            path_effects.Normal(),\n",
    "        ])\n",
    "\n",
    "\n",
    "if __name__ == '__main__':\n",
    "    main()"
   ]
  },
  {
   "cell_type": "code",
   "execution_count": null,
   "id": "37484735",
   "metadata": {},
   "outputs": [],
   "source": [
    "fig, ax1 = plt.subplots(figsize=(10,7))\n",
    "\n",
    "def main():\n",
    "    sns.set_style(\"whitegrid\")\n",
    "    tips = df_1\n",
    "    # optionally disable fliers\n",
    "    showfliers = True\n",
    "    # plot data and create median labels\n",
    "    box_plot = sns.boxplot(ax=ax1, x='Education', y='Total_Spent', hue='Join_year', data=df_1,\n",
    "                           showfliers=showfliers)\n",
    "    create_median_labels(box_plot.axes, showfliers)\n",
    "    plt.show()\n",
    "\n",
    "\n",
    "def create_median_labels(ax, has_fliers):\n",
    "    lines = ax.get_lines()\n",
    "    # depending on fliers, toggle between 5 and 6 lines per box\n",
    "    lines_per_box = 5 + int(has_fliers)\n",
    "    # iterate directly over all median lines, with an interval of lines_per_box\n",
    "    # this enables labeling of grouped data without relying on tick positions\n",
    "    for median_line in lines[4:len(lines):lines_per_box]:\n",
    "        # get center of median line\n",
    "        mean_x = sum(median_line._x) / len(median_line._x)\n",
    "        mean_y = sum(median_line._y) / len(median_line._y)\n",
    "        # print text to center coordinates\n",
    "        text = ax.text(mean_x, mean_y, f'{mean_y:.1f}',\n",
    "                       ha='center', va='center',\n",
    "                       fontweight='bold', size=10, color='white')\n",
    "        # create small black border around white text\n",
    "        # for better readability on multi-colored boxes\n",
    "        text.set_path_effects([\n",
    "            path_effects.Stroke(linewidth=3, foreground='black'),\n",
    "            path_effects.Normal(),\n",
    "        ])\n",
    "\n",
    "\n",
    "if __name__ == '__main__':\n",
    "    main()"
   ]
  },
  {
   "cell_type": "code",
   "execution_count": null,
   "id": "6a7d7abb",
   "metadata": {},
   "outputs": [],
   "source": [
    "education = df_1.Education.value_counts()\n",
    "\n",
    "fig = px.pie(education, \n",
    "             values = education.values, \n",
    "             names = education.index,\n",
    "             color_discrete_sequence=px.colors.sequential.RdBu)\n",
    "fig.update_traces(textposition='inside', textinfo='percent+label', \n",
    "                  marker = dict(line = dict(color = 'white', width = 2)))\n",
    "fig.show()"
   ]
  },
  {
   "cell_type": "code",
   "execution_count": null,
   "id": "8b9ebbbe",
   "metadata": {},
   "outputs": [],
   "source": [
    "df_1.loc[(df_1['Age'] >= 13) & (df_1['Age'] <= 19), 'AgeGroup'] = 'Teen'\n",
    "df_1.loc[(df_1['Age'] >= 20) & (df_1['Age']<= 39), 'AgeGroup'] = 'Adult'\n",
    "df_1.loc[(df_1['Age'] >= 40) & (df_1['Age'] <= 59), 'AgeGroup'] = 'Middle Age Adult'\n",
    "df_1.loc[(df_1['Age'] > 60), 'AgeGroup'] = 'Senior Adult'"
   ]
  },
  {
   "cell_type": "code",
   "execution_count": null,
   "id": "fce836ac",
   "metadata": {},
   "outputs": [],
   "source": [
    "children = df_1.Children.value_counts()\n",
    "\n",
    "fig = px.pie(children, \n",
    "             values = children.values, \n",
    "             names = children.index,\n",
    "             color_discrete_sequence=px.colors.sequential.RdBu)\n",
    "fig.update_traces(textposition='inside', textinfo='percent+label', \n",
    "                  marker = dict(line = dict(color = 'white', width = 2)))\n",
    "fig.show()"
   ]
  },
  {
   "cell_type": "code",
   "execution_count": null,
   "id": "8b8f702a",
   "metadata": {},
   "outputs": [],
   "source": [
    "childrenspending = df_1.groupby('Children')['Total_Spent'].mean().sort_values(ascending=False)\n",
    "childrenspending_df_1 = pd.DataFrame(list(childrenspending.items()), columns=['No. of Children', 'Average Spending'])\n",
    "\n",
    "plt.figure(figsize=(10,5))\n",
    "\n",
    "sns.barplot(data=childrenspending_df_1,  x=\"No. of Children\", y=\"Average Spending\", palette='rocket_r');\n",
    "plt.xticks( fontsize=12)\n",
    "plt.yticks( fontsize=12)\n",
    "plt.xlabel('No. of Children', fontsize=13, labelpad=13)\n",
    "plt.ylabel('Average Spending', fontsize=13, labelpad=13);"
   ]
  },
  {
   "cell_type": "code",
   "execution_count": null,
   "id": "c1919536",
   "metadata": {},
   "outputs": [],
   "source": [
    "plt.figure(figsize=(10,5))\n",
    "ax = sns.histplot(data = df_1.Age, color='salmon')\n",
    "ax.set(title = \"Age Distribution of Customers\");\n",
    "plt.xticks( fontsize=12)\n",
    "plt.yticks( fontsize=12)\n",
    "plt.xlabel('Age ', fontsize=13, labelpad=13)\n",
    "plt.ylabel('Counts', fontsize=13, labelpad=13);"
   ]
  },
  {
   "cell_type": "code",
   "execution_count": null,
   "id": "d43d01be",
   "metadata": {},
   "outputs": [],
   "source": [
    "def find_IQR(df, column):\n",
    "  q_25, q_75 = np.quantile(df[column], 0.25), np.quantile(df[column], 0.75)\n",
    "  IQR = q_75 - q_25\n",
    "  whiskers_range = IQR * 1.5\n",
    "  lower, upper = q_25 - whiskers_range, whiskers_range + q_75\n",
    "  return lower, upper"
   ]
  },
  {
   "cell_type": "code",
   "execution_count": null,
   "id": "3fcce120",
   "metadata": {},
   "outputs": [],
   "source": [
    "lower_age, upper_age = find_IQR(df_1, \"Age\")\n",
    "print(lower_age, upper_age)"
   ]
  },
  {
   "cell_type": "code",
   "execution_count": null,
   "id": "846fa379",
   "metadata": {},
   "outputs": [],
   "source": [
    "lower_income, upper_income = find_IQR(df_1, \"Income\")\n",
    "print(lower_income, upper_income)"
   ]
  },
  {
   "cell_type": "code",
   "execution_count": null,
   "id": "b1faf1de",
   "metadata": {},
   "outputs": [],
   "source": [
    "def find_IQR(df_1, column):\n",
    "  q_25, q_75 = np.quantile(df_1[column], 0.25), np.quantile(df_1[column], 0.75)\n",
    "  IQR = q_75 - q_25\n",
    "  whiskers_range = IQR * 1.5\n",
    "  lower, upper = q_25 - whiskers_range, whiskers_range + q_75\n",
    "  return lower, upper"
   ]
  },
  {
   "cell_type": "code",
   "execution_count": null,
   "id": "e511879c",
   "metadata": {},
   "outputs": [],
   "source": [
    "# Drop the outliers\n",
    "df_1 = df_1[(df_1[\"Age\"] < upper_age)]\n",
    "df_1 = df_1[(df_1[\"Income\"] < upper_income)]"
   ]
  },
  {
   "cell_type": "code",
   "execution_count": null,
   "id": "378f4c93",
   "metadata": {},
   "outputs": [],
   "source": [
    "plt.figure(figsize=(10,5))\n",
    "ax = sns.histplot(data = df_1.Age, color='salmon')\n",
    "ax.set(title = \"Age Distribution of Customers\");\n",
    "plt.xticks( fontsize=12)\n",
    "plt.yticks( fontsize=12)\n",
    "plt.xlabel('Age ', fontsize=13, labelpad=13)\n",
    "plt.ylabel('Counts', fontsize=13, labelpad=13);"
   ]
  },
  {
   "cell_type": "markdown",
   "id": "e54602e2",
   "metadata": {},
   "source": [
    "The age of customers is almost normally distributed, with the majority of customers between the ages of 40 and 60."
   ]
  },
  {
   "cell_type": "code",
   "execution_count": null,
   "id": "2f186cf4",
   "metadata": {},
   "outputs": [],
   "source": [
    "agegroup = df_1.AgeGroup.value_counts()\n",
    "\n",
    "fig = px.pie(labels = agegroup.index, values = agegroup.values, names = agegroup.index, width = 550, height = 550)\n",
    "\n",
    "fig.update_traces(textposition = 'inside', \n",
    "                  textinfo = 'percent + label', \n",
    "                  hole = 0.4, \n",
    "                  marker = dict(colors = ['#3D0C02', '#800000'  , '#C11B17','#C0C0C0'], \n",
    "                                line = dict(color = 'white', width = 2)))\n",
    "\n",
    "fig.update_layout(annotations = [dict(text = 'Age Groups', \n",
    "                                      x = 0.5, y = 0.5, font_size = 20, showarrow = False,                                       \n",
    "                                      font_color = 'black')],\n",
    "                  showlegend = False)\n",
    "\n",
    "fig.show()"
   ]
  },
  {
   "cell_type": "markdown",
   "id": "581b5630",
   "metadata": {},
   "source": [
    "More than 50% of customers are Middle Age Adults between 40 and 60 The 2nd well-known age category is Adults, aged between 20 and 40"
   ]
  },
  {
   "cell_type": "code",
   "execution_count": null,
   "id": "00d40f74",
   "metadata": {},
   "outputs": [],
   "source": [
    "products = df_1[['Wines', 'Fruits', 'Meat', 'Fish', 'Sweets', 'Gold']]\n",
    "product_means = products.mean(axis=0).sort_values(ascending=False)\n",
    "product_means_df_1 = pd.DataFrame(list(product_means.items()), columns=['Product', 'Average Spending'])\n",
    "\n",
    "plt.figure(figsize=(15,10))\n",
    "plt.title('Average Spending on Products')\n",
    "sns.barplot(data=product_means_df_1, x='Product', y='Average Spending', palette='rocket_r');\n",
    "plt.xlabel('Product', fontsize=20, labelpad=20)\n",
    "plt.ylabel('Average Spending', fontsize=20, labelpad=20);"
   ]
  },
  {
   "cell_type": "markdown",
   "id": "2860118f",
   "metadata": {},
   "source": [
    "### 4. Data Pre-processing"
   ]
  },
  {
   "cell_type": "code",
   "execution_count": null,
   "id": "0bf93122",
   "metadata": {},
   "outputs": [],
   "source": []
  },
  {
   "cell_type": "code",
   "execution_count": null,
   "id": "ba78fd9a",
   "metadata": {},
   "outputs": [],
   "source": []
  },
  {
   "cell_type": "code",
   "execution_count": null,
   "id": "a3fa0363",
   "metadata": {},
   "outputs": [],
   "source": [
    "#Get list of categorical variables:\n",
    "\n",
    "s = (df_1.dtypes == 'object')\n",
    "object_cols = list(s[s].index)\n",
    "\n",
    "print(\"Categorical variables in the dataset:\", object_cols)"
   ]
  },
  {
   "cell_type": "code",
   "execution_count": null,
   "id": "a9ac924a",
   "metadata": {},
   "outputs": [],
   "source": [
    "#Label Encoding the object dtypes.\n",
    "LE=LabelEncoder()\n",
    "for i in object_cols:\n",
    "    df_1[i]= df_1[[i]].apply(LE.fit_transform)\n",
    "    \n",
    "print(\"All features are now numerical\")"
   ]
  },
  {
   "cell_type": "code",
   "execution_count": null,
   "id": "85ab57de",
   "metadata": {},
   "outputs": [],
   "source": [
    "df_1.sample(5)"
   ]
  },
  {
   "cell_type": "markdown",
   "id": "5724764b",
   "metadata": {},
   "source": [
    "Wine and Meat Products are the most famous products among customers Candy and Fruits are not often bought"
   ]
  },
  {
   "cell_type": "code",
   "execution_count": null,
   "id": "919bf291",
   "metadata": {},
   "outputs": [],
   "source": [
    "df_clust = df_1.drop(['ID', 'Year_Birth', 'Marital_Status', 'Kidhome', 'Teenhome','Dt_Customer', 'Recency', 'NumDealsPurchases', 'NumWebPurchases','NumCatalogPurchases',\n",
    "                         'NumStorePurchases', 'NumWebVisitsMonth', 'AcceptedCmp3', 'AcceptedCmp4', 'AcceptedCmp5',\n",
    "                        'AcceptedCmp1', 'AcceptedCmp2', 'Complain',  'Response','Is_Parent','Join_month','Join_weekday'], axis=1)"
   ]
  },
  {
   "cell_type": "code",
   "execution_count": null,
   "id": "fad1d073",
   "metadata": {},
   "outputs": [],
   "source": [
    "df_clust.sample(7)\n"
   ]
  },
  {
   "cell_type": "markdown",
   "id": "14b0d8e9",
   "metadata": {},
   "source": [
    "### 5. Dimensional Reduction"
   ]
  },
  {
   "cell_type": "code",
   "execution_count": null,
   "id": "0e170dc7",
   "metadata": {},
   "outputs": [],
   "source": [
    "#Initiating PCA to reduce dimentions aka features to 3\n",
    "pca = PCA(n_components=3)\n",
    "pca.fit(df_clust)\n",
    "PCA_ds = pd.DataFrame(pca.transform(df_clust), columns=([\"col1\",\"col2\",\"col3\"]))\n",
    "PCA_ds.describe().T"
   ]
  },
  {
   "cell_type": "code",
   "execution_count": null,
   "id": "08cdb171",
   "metadata": {},
   "outputs": [],
   "source": [
    "#A 3D Projection Of Data In The Reduced Dimension\n",
    "x =PCA_ds[\"col1\"]\n",
    "y =PCA_ds[\"col2\"]\n",
    "z =PCA_ds[\"col3\"]\n",
    "\n",
    "#To plot\n",
    "fig = plt.figure(figsize=(10,8))\n",
    "ax = fig.add_subplot(111, projection=\"3d\")\n",
    "ax.scatter(x,y,z, c=\"green\", marker=\"1\") # c=\"colour of points\" and marker = \"shape of the points ex: circle,square.etc\"\n",
    "ax.set_title(\"A 3D Projection Of Data In The Reduced Dimension\")\n",
    "plt.show()\n",
    "\n",
    "\n"
   ]
  },
  {
   "cell_type": "code",
   "execution_count": null,
   "id": "d964402b",
   "metadata": {},
   "outputs": [],
   "source": [
    "\n",
    "#Ploting result data with the use of scatterplot. plotly\n",
    "x =PCA_ds[\"col1\"]\n",
    "y =PCA_ds[\"col2\"]\n",
    "z =PCA_ds[\"col3\"]\n",
    "\n",
    "fig = go.Figure(data=[go.Scatter3d(\n",
    "    x=x,y=y,z=z,mode='markers',\n",
    "    marker=dict(size=6,color='green',opacity=0.8))])\n",
    "\n",
    "# tight layout\n",
    "fig.update_layout( title={'text': \"3D scatterplot of size-reduced data\",'y':0.9,\n",
    "        'x':0.5,'xanchor': 'center','yanchor': 'top'},\n",
    "                  margin=dict(l=200, r=220, b=0, t=0))\n",
    "fig.show()"
   ]
  },
  {
   "cell_type": "code",
   "execution_count": null,
   "id": "a8c66409",
   "metadata": {},
   "outputs": [],
   "source": [
    "#Ploting result data with the use of scatterplot. plotly\n",
    "x =PCA_ds[\"col1\"]\n",
    "y =PCA_ds[\"col2\"]\n",
    "z =PCA_ds[\"col3\"]\n",
    "\n",
    " \n",
    "fig = go.Figure(data=[go.Scatter3d(\n",
    "    x=x,y=y,z=z,mode='markers',\n",
    "    marker=dict(size=6,color=x,opacity=0.8))])\n",
    "\n",
    "# tight layout\n",
    "fig.update_layout( title={'text': \"3D scatterplot of size-reduced data\",'y':0.9,\n",
    "        'x':0.5,'xanchor': 'center','yanchor': 'top'},\n",
    "                  margin=dict(l=200, r=220, b=0, t=0))\n",
    "fig.show()"
   ]
  },
  {
   "cell_type": "markdown",
   "id": "4bc24c40",
   "metadata": {},
   "source": [
    "### Elbow method"
   ]
  },
  {
   "cell_type": "code",
   "execution_count": null,
   "id": "d80229da",
   "metadata": {},
   "outputs": [],
   "source": [
    "# Elbow method:\n",
    "\n",
    "fig = plt.figure(figsize=(13,7))\n",
    "print('Elbow Method to determine the number of clusters to be formed:')\n",
    "Elbow_M = KElbowVisualizer(KMeans(), k = 10)\n",
    "Elbow_M.fit(PCA_ds)\n",
    "Elbow_M.show()"
   ]
  },
  {
   "cell_type": "code",
   "execution_count": null,
   "id": "795f6fbd",
   "metadata": {},
   "outputs": [],
   "source": [
    "model = KMeans(n_clusters=4, init='k-means++', random_state=42).fit(df_clust)\n",
    "\n",
    "preds = model.predict(df_clust)\n",
    "\n",
    "customer_kmeans = df_clust.copy()\n",
    "customer_kmeans['clusters'] = preds"
   ]
  },
  {
   "cell_type": "code",
   "execution_count": null,
   "id": "43e779bb",
   "metadata": {},
   "outputs": [],
   "source": [
    "#Income\n",
    "plt.figure(figsize=(20,10))\n",
    "\n",
    "sns.boxplot(data=customer_kmeans, x='clusters', y = 'Income',palette='rocket_r');\n",
    "plt.xlabel('Clusters', fontsize=20, labelpad=20)\n",
    "plt.ylabel('Income', fontsize=50, labelpad=20);"
   ]
  },
  {
   "cell_type": "code",
   "execution_count": null,
   "id": "ecc1d945",
   "metadata": {},
   "outputs": [],
   "source": [
    "#Total Spending\n",
    "plt.figure(figsize=(20,10))\n",
    "\n",
    "sns.boxplot(data=customer_kmeans, x='clusters', y = 'Total_Spent',palette='rocket_r');\n",
    "plt.xlabel('Clusters', fontsize=20, labelpad=20)\n",
    "plt.ylabel('Spendings', fontsize=50, labelpad=20);\n"
   ]
  },
  {
   "cell_type": "code",
   "execution_count": null,
   "id": "d8a7dd28",
   "metadata": {},
   "outputs": [],
   "source": [
    "plt.figure(figsize=(20,10))\n",
    "\n",
    "sns.boxplot(data=customer_kmeans, x='clusters', y = 'Age',palette='rocket_r');\n",
    "plt.xlabel('Clusters', fontsize=20, labelpad=20)\n",
    "plt.ylabel('Age', fontsize=50, labelpad=20);"
   ]
  },
  {
   "cell_type": "code",
   "execution_count": null,
   "id": "9599e163",
   "metadata": {},
   "outputs": [],
   "source": [
    "plt.figure(figsize=(20,10))\n",
    "\n",
    "sns.boxplot(data=customer_kmeans, x='clusters', y = 'Children',palette='rocket_r');\n",
    "plt.xlabel('Clusters', fontsize=20, labelpad=20)\n",
    "plt.ylabel('No. of Children', fontsize=50, labelpad=20);\n"
   ]
  },
  {
   "cell_type": "markdown",
   "id": "4255a201",
   "metadata": {},
   "source": [
    "### From the above analysis we can group customers into 4 groups based on their income and total expenses:\n",
    "\n",
    "### Platinum: Highest income and highest expense\n",
    "\n",
    "### Gold: High earners and high spenders\n",
    "\n",
    "### Silver: The one with lower salary and less expenses\n",
    "\n",
    "### Bronze: The one with the lowest salary and least expenses"
   ]
  },
  {
   "cell_type": "code",
   "execution_count": null,
   "id": "44d2b3f0",
   "metadata": {},
   "outputs": [],
   "source": [
    "customer_kmeans.clusters = customer_kmeans.clusters.replace({ 0: 'Platinum',1: 'Bronze',\n",
    "                                                             2: 'Gold',\n",
    "                                                             3: 'Silver',\n",
    "                                                             })\n",
    "\n",
    "df_clust['clusters'] = customer_kmeans.clusters"
   ]
  },
  {
   "cell_type": "code",
   "execution_count": null,
   "id": "5419f86f",
   "metadata": {},
   "outputs": [],
   "source": [
    "cluster_counts = df_clust.clusters.value_counts()\n",
    "\n",
    "fig = px.pie(cluster_counts, \n",
    "             values = cluster_counts.values, \n",
    "             names = cluster_counts.index,\n",
    "             color_discrete_sequence=px.colors.sequential.RdBu)\n",
    "fig.update_traces(textposition='inside', textinfo='percent+label', textfont_size=20,\n",
    "                  marker = dict(line = dict(color = 'white', width = 2)))\n",
    "fig.show()"
   ]
  },
  {
   "cell_type": "markdown",
   "id": "d3ec3fc8",
   "metadata": {},
   "source": [
    "Most customers are in the Silver and Gold categories, around 29% and 28% respectively\n",
    "Platinum is the 3rd well-known customer category with 24% while only 19% occupies the bronze category\n"
   ]
  },
  {
   "cell_type": "markdown",
   "id": "2112e871",
   "metadata": {},
   "source": [
    "Relationship: Income vs. Spendings"
   ]
  },
  {
   "cell_type": "code",
   "execution_count": null,
   "id": "4f4690a9",
   "metadata": {},
   "outputs": [],
   "source": [
    "plt.figure(figsize=(20,10))\n",
    "sns.scatterplot(data=df_clust, x='Income', y='Total_Spent', hue='clusters', palette='rocket_r');\n",
    "plt.xlabel('Income', fontsize=20, labelpad=20)\n",
    "plt.ylabel('Total Spendings', fontsize=20, labelpad=20);"
   ]
  },
  {
   "cell_type": "markdown",
   "id": "ca246c8e",
   "metadata": {},
   "source": [
    "4 clusters can be easily identified from the plot above\n",
    "Those who earn more also spend more"
   ]
  },
  {
   "cell_type": "markdown",
   "id": "dda66454",
   "metadata": {},
   "source": [
    "Spending Habits by Clusters"
   ]
  },
  {
   "cell_type": "code",
   "execution_count": null,
   "id": "e0be6ef8",
   "metadata": {},
   "outputs": [],
   "source": [
    "df_clust.sample(3)"
   ]
  },
  {
   "cell_type": "code",
   "execution_count": null,
   "id": "e80e788b",
   "metadata": {},
   "outputs": [],
   "source": []
  },
  {
   "cell_type": "markdown",
   "id": "7c37e9c2",
   "metadata": {},
   "source": [
    "### 6. Dimensional Reduction for Cluster formation"
   ]
  },
  {
   "cell_type": "code",
   "execution_count": null,
   "id": "c7586b5a",
   "metadata": {},
   "outputs": [],
   "source": [
    "customer_kmeans.clusters = df_clust.clusters.replace({'Platinum':0, 'Gold':1,'Silver':2,'Bronze':3})\n",
    "\n",
    "df_clust['Clusters'] = customer_kmeans.clusters"
   ]
  },
  {
   "cell_type": "code",
   "execution_count": null,
   "id": "2ff8e41b",
   "metadata": {
    "scrolled": true
   },
   "outputs": [],
   "source": [
    "df_1.sample(5)"
   ]
  },
  {
   "cell_type": "code",
   "execution_count": null,
   "id": "c2b203c3",
   "metadata": {},
   "outputs": [],
   "source": [
    "df_clust.sample(5)"
   ]
  },
  {
   "cell_type": "code",
   "execution_count": null,
   "id": "59533d71",
   "metadata": {},
   "outputs": [],
   "source": [
    "final = df_clust.drop(['Wines','Fruits','Meat','Fish','Sweets','Gold','Age','clusters'],axis = 1)"
   ]
  },
  {
   "cell_type": "code",
   "execution_count": null,
   "id": "f28e9972",
   "metadata": {
    "scrolled": true
   },
   "outputs": [],
   "source": [
    "final.sample(3)"
   ]
  },
  {
   "cell_type": "code",
   "execution_count": null,
   "id": "57a458e6",
   "metadata": {},
   "outputs": [],
   "source": [
    "final.info()"
   ]
  },
  {
   "cell_type": "code",
   "execution_count": null,
   "id": "c8060d54",
   "metadata": {},
   "outputs": [],
   "source": [
    "\n",
    "final=final.assign(Incomes=pd.cut(final['Income'], \n",
    "                               bins=[ 0, 25000, 50000,100000,666666], \n",
    "                               labels=['Below 25000', 'Income 25000-50000 ', 'Income 50000-100000 ','Above 100000']))\n",
    "final=final.drop(\"Income\", axis=1)"
   ]
  },
  {
   "cell_type": "code",
   "execution_count": null,
   "id": "d765fa98",
   "metadata": {},
   "outputs": [],
   "source": [
    "\n",
    "final=final.assign(Expense=pd.cut(final['Total_Spent'], \n",
    "                               bins=[ 0, 500, 1000, 2525], \n",
    "                               labels=['Below 500', 'Expense 500-1000 ','Above 1000']))\n",
    "final=final.drop(\"Total_Spent\", axis=1)"
   ]
  },
  {
   "cell_type": "code",
   "execution_count": null,
   "id": "1687ca9d",
   "metadata": {},
   "outputs": [],
   "source": [
    "\n",
    "# # final[['Year_Birth']]=final['Year_Birth']\n",
    "# final=final.assign(DOB =pd.cut(final['Year_Birth'], \n",
    "#                                bins=[ 0, 1959, 1977, 1996], \n",
    "#                                labels=['Below 1959', 'DOB 1959-1977', 'DOB 1977-1996']))\n",
    "# final=final.drop(\"Year_Birth\", axis=1)"
   ]
  },
  {
   "cell_type": "code",
   "execution_count": null,
   "id": "bfa4111c",
   "metadata": {},
   "outputs": [],
   "source": []
  },
  {
   "cell_type": "code",
   "execution_count": null,
   "id": "5f6078f0",
   "metadata": {},
   "outputs": [],
   "source": [
    "final.sample(5)"
   ]
  },
  {
   "cell_type": "code",
   "execution_count": null,
   "id": "968526c8",
   "metadata": {},
   "outputs": [],
   "source": []
  },
  {
   "cell_type": "code",
   "execution_count": null,
   "id": "bbe67955",
   "metadata": {
    "scrolled": false
   },
   "outputs": [],
   "source": [
    "# #Creating a copy of data\n",
    "# df_std = df_clust.copy()\n",
    "\n",
    "# # creating a subset of dataframe by dropping the features on deals accepted and promotions\n",
    "# cols_del = ['clusters']\n",
    "# df_std = df_std.drop(cols_del, axis=1)\n",
    "\n",
    "\n",
    "\n",
    "# #Scaling\n",
    "# scaler = StandardScaler()\n",
    "# scaler.fit(df_std)\n",
    "# scaled_df_std = pd.DataFrame(scaler.transform(df_std),columns= df_std.columns )\n",
    "# print(\"All features are now scaled\")"
   ]
  },
  {
   "cell_type": "code",
   "execution_count": null,
   "id": "943f36e9",
   "metadata": {},
   "outputs": [],
   "source": [
    "# Label Encoding:\n",
    "from sklearn import preprocessing\n",
    "label_encoder = preprocessing.LabelEncoder()"
   ]
  },
  {
   "cell_type": "code",
   "execution_count": null,
   "id": "bda0ce22",
   "metadata": {},
   "outputs": [],
   "source": [
    "final['Incomes']= label_encoder.fit_transform(final['Incomes'])\n",
    "# final['DOB']= label_encoder.fit_transform(final['DOB'])\n",
    "final['Expense']= label_encoder.fit_transform(final['Expense'])"
   ]
  },
  {
   "cell_type": "code",
   "execution_count": null,
   "id": "03da2be2",
   "metadata": {},
   "outputs": [],
   "source": [
    "from sklearn.preprocessing import normalize\n",
    "final_scaled = normalize(final)\n",
    "final_scaled = pd.DataFrame(final_scaled, columns=final.columns)\n",
    "final_scaled.sample(5)"
   ]
  },
  {
   "cell_type": "code",
   "execution_count": null,
   "id": "c9fe8df9",
   "metadata": {},
   "outputs": [],
   "source": []
  },
  {
   "cell_type": "code",
   "execution_count": null,
   "id": "44ebd17d",
   "metadata": {
    "scrolled": true
   },
   "outputs": [],
   "source": [
    "#Initiating PCA to reduce dimentions aka features to 3\n",
    "pca = PCA(n_components=3)\n",
    "pca.fit(final_scaled)\n",
    "PCA_ds = pd.DataFrame(pca.transform(final_scaled), columns=([\"col1\",\"col2\",\"col3\"]))\n",
    "PCA_ds.describe().T"
   ]
  },
  {
   "cell_type": "markdown",
   "id": "b20dd7b6",
   "metadata": {},
   "source": [
    "# Model Building"
   ]
  },
  {
   "cell_type": "code",
   "execution_count": null,
   "id": "05156c4c",
   "metadata": {},
   "outputs": [],
   "source": [
    "import scipy.cluster.hierarchy as sch\n",
    "from sklearn.cluster import AgglomerativeClustering\n"
   ]
  },
  {
   "cell_type": "code",
   "execution_count": null,
   "id": "24b18b7f",
   "metadata": {},
   "outputs": [],
   "source": [
    "hc=AgglomerativeClustering(n_clusters=4,affinity='euclidean',linkage=\"ward\") "
   ]
  },
  {
   "cell_type": "code",
   "execution_count": null,
   "id": "93033552",
   "metadata": {},
   "outputs": [],
   "source": [
    "y_hc=hc.fit_predict(final_scaled)\n",
    "clusters=pd.DataFrame(y_hc,columns=['Clusters'])"
   ]
  },
  {
   "cell_type": "code",
   "execution_count": null,
   "id": "d30ced58",
   "metadata": {},
   "outputs": [],
   "source": [
    "y_hc"
   ]
  },
  {
   "cell_type": "code",
   "execution_count": null,
   "id": "01468615",
   "metadata": {},
   "outputs": [],
   "source": [
    "clusters.sample(10)"
   ]
  },
  {
   "cell_type": "code",
   "execution_count": null,
   "id": "d415aeef",
   "metadata": {
    "scrolled": true
   },
   "outputs": [],
   "source": [
    "final.sample(3)"
   ]
  },
  {
   "cell_type": "code",
   "execution_count": null,
   "id": "70616ab6",
   "metadata": {
    "scrolled": false
   },
   "outputs": [],
   "source": [
    "final.shape"
   ]
  },
  {
   "cell_type": "code",
   "execution_count": null,
   "id": "e27eb730",
   "metadata": {},
   "outputs": [],
   "source": [
    "X = final.drop(\"Clusters\", axis=1)\n",
    "Y = final.Clusters\n",
    "X.shape, Y.shape"
   ]
  },
  {
   "cell_type": "code",
   "execution_count": null,
   "id": "7569501f",
   "metadata": {},
   "outputs": [],
   "source": [
    "X.sample(5)"
   ]
  },
  {
   "cell_type": "code",
   "execution_count": null,
   "id": "733f14b6",
   "metadata": {
    "scrolled": true
   },
   "outputs": [],
   "source": [
    "Y.sample(8)"
   ]
  },
  {
   "cell_type": "code",
   "execution_count": null,
   "id": "00c60505",
   "metadata": {},
   "outputs": [],
   "source": [
    "from sklearn.model_selection import train_test_split\n",
    "x_train, x_test, y_train, y_test = train_test_split(X,Y, test_size = 0.3, random_state = 10)\n"
   ]
  },
  {
   "cell_type": "code",
   "execution_count": null,
   "id": "f19ac830",
   "metadata": {},
   "outputs": [],
   "source": [
    "x_train.shape, y_train.shape, x_test.shape, y_test.shape"
   ]
  },
  {
   "cell_type": "markdown",
   "id": "e467237a",
   "metadata": {},
   "source": [
    "# SVM"
   ]
  },
  {
   "cell_type": "markdown",
   "id": "c2487d40",
   "metadata": {},
   "source": [
    "### Grid Search"
   ]
  },
  {
   "cell_type": "markdown",
   "id": "efcafebc",
   "metadata": {},
   "source": [
    "#### 1. Kernel rbf"
   ]
  },
  {
   "cell_type": "code",
   "execution_count": null,
   "id": "15c3dc89",
   "metadata": {},
   "outputs": [],
   "source": [
    "clf =SVC()\n",
    "param_grid = [{'kernel':['rbf'],'gamma':[50,5,10,0.5],'C':[1,5,14,13,12,11,10,0.1,0.001]}]\n",
    "gsv = GridSearchCV(clf, param_grid,cv=10)\n",
    "gsv.fit(x_train, y_train)"
   ]
  },
  {
   "cell_type": "code",
   "execution_count": null,
   "id": "09d0f825",
   "metadata": {},
   "outputs": [],
   "source": [
    "gsv.best_params_ , gsv.best_score_"
   ]
  },
  {
   "cell_type": "code",
   "execution_count": null,
   "id": "ebdb29c0",
   "metadata": {},
   "outputs": [],
   "source": [
    "clf = SVC(C =14 , gamma= 0.5)\n",
    "clf.fit(x_train, y_train)\n",
    "y_pred = clf.predict(x_test)\n",
    "acc_1= accuracy_score(y_test, y_pred)*100\n",
    "print('Accuracy changing the kernel as rbf is:', np.round(acc_1,2))"
   ]
  },
  {
   "cell_type": "code",
   "execution_count": null,
   "id": "e9dce509",
   "metadata": {},
   "outputs": [],
   "source": [
    "confusion_matrix(y_test, y_pred)"
   ]
  },
  {
   "cell_type": "markdown",
   "id": "c65b1f1d",
   "metadata": {},
   "source": [
    "#### 2. Polynomial Kernel"
   ]
  },
  {
   "cell_type": "code",
   "execution_count": null,
   "id": "8a5216b0",
   "metadata": {},
   "outputs": [],
   "source": [
    "clf2 = SVC()\n",
    "param_grid2 = [{'kernel':['poly'],'gamma':[50,5,0.5,0.2,0.1,0.05],'C':[15,14,22,30,37,48,12,15,27]}]\n",
    "gsv2 = GridSearchCV(clf2, param_grid2, cv=10)\n",
    "gsv2.fit(x_train,y_train)"
   ]
  },
  {
   "cell_type": "code",
   "execution_count": null,
   "id": "8f4e6320",
   "metadata": {},
   "outputs": [],
   "source": [
    "gsv2.best_params_, gsv2.best_score_"
   ]
  },
  {
   "cell_type": "code",
   "execution_count": null,
   "id": "b31ac9b4",
   "metadata": {},
   "outputs": [],
   "source": [
    "clf2= SVC(C=15, gamma=0.05, kernel = 'poly')\n",
    "clf2.fit(x_train, y_train)\n",
    "y_pred = clf2.predict(x_test)\n",
    "acc_2 = accuracy_score(y_test, y_pred)*100\n",
    "print('Accuracy',np.round(acc_2,3))"
   ]
  },
  {
   "cell_type": "code",
   "execution_count": null,
   "id": "768b8fd4",
   "metadata": {},
   "outputs": [],
   "source": [
    "confusion_matrix(y_test, y_pred)"
   ]
  },
  {
   "cell_type": "markdown",
   "id": "3da5e3f7",
   "metadata": {},
   "source": [
    "#### 3.Sigmoid Kernel"
   ]
  },
  {
   "cell_type": "code",
   "execution_count": null,
   "id": "38e6ed44",
   "metadata": {},
   "outputs": [],
   "source": [
    "clf3 = SVC()\n",
    "param_grid3 = [{'kernel':['sigmoid'], 'gamma':[30,50,5,0.5,0.2,0.1,0.05],\"C\":[15,14,20,30,35,48,12,16,29]}]\n",
    "gsv3 = GridSearchCV(clf3, param_grid3, cv =10)\n",
    "gsv3.fit(x_train, y_train)"
   ]
  },
  {
   "cell_type": "code",
   "execution_count": null,
   "id": "b4ece81a",
   "metadata": {},
   "outputs": [],
   "source": [
    "gsv3.best_params_, gsv3.best_score_"
   ]
  },
  {
   "cell_type": "code",
   "execution_count": null,
   "id": "99d18ce1",
   "metadata": {},
   "outputs": [],
   "source": [
    "clf = SVC(C=14, gamma=0.05, kernel= 'sigmoid')\n",
    "clf3.fit(x_train, y_train)\n",
    "y_pred = clf3.predict(x_test)\n",
    "acc_3 = accuracy_score(y_test, y_pred) * 100\n",
    "print('Accuracy', np.round(acc_3,3))"
   ]
  },
  {
   "cell_type": "code",
   "execution_count": null,
   "id": "a0e7e58e",
   "metadata": {},
   "outputs": [],
   "source": [
    "confusion_matrix(y_test, y_pred)"
   ]
  },
  {
   "cell_type": "code",
   "execution_count": null,
   "id": "b108edf0",
   "metadata": {
    "scrolled": true
   },
   "outputs": [],
   "source": [
    "print(\"Accuracy using rbf kernel: \",np.round(acc_1,2))\n",
    "print(\"Accuracy using Polynomial kernel: \",np.round(acc_2,2))\n",
    "print(\"Accuracy using Sigmoid kernel: \",np.round(acc_3,2))"
   ]
  },
  {
   "cell_type": "markdown",
   "id": "4aa20cfa",
   "metadata": {},
   "source": [
    "# Random Forest Classifier"
   ]
  },
  {
   "cell_type": "code",
   "execution_count": null,
   "id": "46ecf26a",
   "metadata": {},
   "outputs": [],
   "source": [
    "from sklearn.ensemble import RandomForestClassifier \n",
    "model = RandomForestClassifier(max_depth=4, random_state = 10) \n",
    "model.fit(x_train, y_train)"
   ]
  },
  {
   "cell_type": "code",
   "execution_count": null,
   "id": "8eeb3e2e",
   "metadata": {},
   "outputs": [],
   "source": [
    "from sklearn.metrics import accuracy_score\n",
    "pred_cv = model.predict(x_test)\n",
    "accuracy_score(y_test,pred_cv)*100"
   ]
  },
  {
   "cell_type": "code",
   "execution_count": null,
   "id": "be267625",
   "metadata": {},
   "outputs": [],
   "source": [
    "pred_train = model.predict(x_train)\n",
    "accuracy_score(y_train,pred_train)*100"
   ]
  },
  {
   "cell_type": "code",
   "execution_count": null,
   "id": "bb3f57ef",
   "metadata": {},
   "outputs": [],
   "source": [
    "# saving the model \n",
    "import pickle \n",
    "pickle_out = open(\"RFC_model.pkl\", mode = \"wb\") \n",
    "pickle.dump(model, pickle_out) \n",
    "pickle_out.close()"
   ]
  },
  {
   "cell_type": "code",
   "execution_count": null,
   "id": "c3bb2499",
   "metadata": {},
   "outputs": [],
   "source": []
  },
  {
   "cell_type": "code",
   "execution_count": null,
   "id": "4050025b",
   "metadata": {},
   "outputs": [],
   "source": []
  },
  {
   "cell_type": "code",
   "execution_count": null,
   "id": "94d0114a",
   "metadata": {},
   "outputs": [],
   "source": []
  },
  {
   "cell_type": "markdown",
   "id": "fa0a963e",
   "metadata": {},
   "source": [
    "# Random Forest Regressor"
   ]
  },
  {
   "cell_type": "code",
   "execution_count": null,
   "id": "9463d4b0",
   "metadata": {},
   "outputs": [],
   "source": [
    "X_1 =df_clust.iloc[:,0:19]\n",
    "Y_1 =df_clust.iloc[:,-1]\n",
    "X_1.shape, Y_1.shape"
   ]
  },
  {
   "cell_type": "code",
   "execution_count": null,
   "id": "d038fbc5",
   "metadata": {},
   "outputs": [],
   "source": [
    "### Feature Importance\n",
    "\n",
    "from sklearn.ensemble import ExtraTreesRegressor\n",
    "import matplotlib.pyplot as plt\n",
    "model = ExtraTreesRegressor()\n",
    "model.fit(X_1,Y_1)"
   ]
  },
  {
   "cell_type": "code",
   "execution_count": null,
   "id": "eff8babc",
   "metadata": {},
   "outputs": [],
   "source": [
    "print(model.feature_importances_)"
   ]
  },
  {
   "cell_type": "code",
   "execution_count": null,
   "id": "62390584",
   "metadata": {},
   "outputs": [],
   "source": [
    "#plot graph of feature importances for better visualization\n",
    "feat_importances = pd.Series(model.feature_importances_, index=X_1.columns)\n",
    "feat_importances.nlargest(11).plot(kind='barh')\n",
    "plt.show()"
   ]
  },
  {
   "cell_type": "code",
   "execution_count": null,
   "id": "385d06ef",
   "metadata": {},
   "outputs": [],
   "source": [
    "from sklearn.model_selection import train_test_split\n",
    "X_train, X_test, y_train, y_test = train_test_split(X_1, Y_1, test_size=0.3, random_state=0)"
   ]
  },
  {
   "cell_type": "code",
   "execution_count": null,
   "id": "013498fb",
   "metadata": {},
   "outputs": [],
   "source": [
    "from sklearn.ensemble import RandomForestRegressor"
   ]
  },
  {
   "cell_type": "code",
   "execution_count": null,
   "id": "6b78f112",
   "metadata": {},
   "outputs": [],
   "source": [
    "regressor=RandomForestRegressor()"
   ]
  },
  {
   "cell_type": "code",
   "execution_count": null,
   "id": "0f10531b",
   "metadata": {},
   "outputs": [],
   "source": [
    "n_estimators = [int(x) for x in np.linspace(start = 100, stop = 1200, num = 12)]\n",
    "print(n_estimators)"
   ]
  },
  {
   "cell_type": "code",
   "execution_count": null,
   "id": "3c238aff",
   "metadata": {},
   "outputs": [],
   "source": [
    "from sklearn.model_selection import RandomizedSearchCV"
   ]
  },
  {
   "cell_type": "code",
   "execution_count": null,
   "id": "bca1f2ea",
   "metadata": {},
   "outputs": [],
   "source": [
    " #Randomized Search CV\n",
    "\n",
    "# Number of trees in random forest\n",
    "n_estimators = [int(x) for x in np.linspace(start = 100, stop = 1200, num = 12)]\n",
    "# Number of features to consider at every split\n",
    "max_features = ['auto', 'sqrt']\n",
    "# Maximum number of levels in tree\n",
    "max_depth = [int(x) for x in np.linspace(5, 30, num = 6)]\n",
    "# max_depth.append(None)\n",
    "# Minimum number of samples required to split a node\n",
    "min_samples_split = [2, 5, 10, 15, 100]\n",
    "# Minimum number of samples required at each leaf node\n",
    "min_samples_leaf = [1, 2, 5, 10]"
   ]
  },
  {
   "cell_type": "code",
   "execution_count": null,
   "id": "8a8583af",
   "metadata": {},
   "outputs": [],
   "source": [
    "# Create the random grid\n",
    "random_grid = {'n_estimators': n_estimators,\n",
    "               'max_features': max_features,\n",
    "               'max_depth': max_depth,\n",
    "               'min_samples_split': min_samples_split,\n",
    "               'min_samples_leaf': min_samples_leaf}\n",
    "\n",
    "print(random_grid)"
   ]
  },
  {
   "cell_type": "code",
   "execution_count": null,
   "id": "d5ce6aed",
   "metadata": {},
   "outputs": [],
   "source": [
    "# Use the random grid to search for best hyperparameters\n",
    "# First create the base model to tune\n",
    "rf = RandomForestRegressor()"
   ]
  },
  {
   "cell_type": "code",
   "execution_count": null,
   "id": "c875c4d8",
   "metadata": {},
   "outputs": [],
   "source": [
    "# Random search of parameters, using 3 fold cross validation, \n",
    "# search across 100 different combinations\n",
    "rf_random = RandomizedSearchCV(estimator = rf, param_distributions = random_grid,scoring='neg_mean_squared_error', n_iter = 10, cv = 5, verbose=2, random_state=42, n_jobs = 1)\n"
   ]
  },
  {
   "cell_type": "code",
   "execution_count": null,
   "id": "63bd62f9",
   "metadata": {
    "scrolled": true
   },
   "outputs": [],
   "source": [
    "rf_random.fit(X_train,y_train)"
   ]
  },
  {
   "cell_type": "code",
   "execution_count": null,
   "id": "11076c0b",
   "metadata": {},
   "outputs": [],
   "source": [
    "rf_random.best_params_"
   ]
  },
  {
   "cell_type": "code",
   "execution_count": null,
   "id": "df4ca409",
   "metadata": {},
   "outputs": [],
   "source": [
    "rf_random.best_score_"
   ]
  },
  {
   "cell_type": "code",
   "execution_count": null,
   "id": "d071e349",
   "metadata": {},
   "outputs": [],
   "source": [
    "predictions=rf_random.predict(X_test)"
   ]
  },
  {
   "cell_type": "code",
   "execution_count": null,
   "id": "f81e5b1e",
   "metadata": {},
   "outputs": [],
   "source": [
    "sns.distplot(y_test-predictions)"
   ]
  },
  {
   "cell_type": "code",
   "execution_count": null,
   "id": "18fcb1de",
   "metadata": {
    "scrolled": true
   },
   "outputs": [],
   "source": [
    "plt.scatter(y_test,predictions)"
   ]
  },
  {
   "cell_type": "code",
   "execution_count": null,
   "id": "92a96611",
   "metadata": {},
   "outputs": [],
   "source": [
    "\n",
    "from sklearn import metrics"
   ]
  },
  {
   "cell_type": "code",
   "execution_count": null,
   "id": "81f29c28",
   "metadata": {},
   "outputs": [],
   "source": [
    "print('MAE:', metrics.mean_absolute_error(y_test, predictions))\n",
    "print('MSE:', metrics.mean_squared_error(y_test, predictions))\n",
    "print('RMSE:', np.sqrt(metrics.mean_squared_error(y_test, predictions)))"
   ]
  },
  {
   "cell_type": "code",
   "execution_count": null,
   "id": "a8fd65cd",
   "metadata": {},
   "outputs": [],
   "source": [
    "import pickle\n",
    "# open a file, where you ant to store the data\n",
    "file = open('random_forest_regression_model.pkl', 'wb')\n",
    "\n",
    "# dump information to that file\n",
    "pickle.dump(rf_random, file)"
   ]
  },
  {
   "cell_type": "code",
   "execution_count": null,
   "id": "80606f5a",
   "metadata": {},
   "outputs": [],
   "source": []
  },
  {
   "cell_type": "code",
   "execution_count": null,
   "id": "04de072f",
   "metadata": {},
   "outputs": [],
   "source": []
  },
  {
   "cell_type": "code",
   "execution_count": null,
   "id": "108d08d8",
   "metadata": {},
   "outputs": [],
   "source": []
  },
  {
   "cell_type": "markdown",
   "id": "fce90bd9",
   "metadata": {},
   "source": [
    "# KNN"
   ]
  },
  {
   "cell_type": "code",
   "execution_count": null,
   "id": "1a1cdc49",
   "metadata": {},
   "outputs": [],
   "source": [
    "from sklearn.neighbors import KNeighborsClassifier\n",
    "knn = KNeighborsClassifier()\n",
    "knn.fit(x_train, y_train)\n",
    "y_pred = knn.predict(x_test)\n",
    "accuracy_score(y_test,y_pred)"
   ]
  },
  {
   "cell_type": "code",
   "execution_count": null,
   "id": "d488bde1",
   "metadata": {},
   "outputs": [],
   "source": []
  },
  {
   "cell_type": "code",
   "execution_count": null,
   "id": "6a3c33ed",
   "metadata": {},
   "outputs": [],
   "source": [
    "# saving the model \n",
    "import pickle \n",
    "pickle_out = open(\"model.pkl\", mode = \"wb\") \n",
    "pickle.dump(clf3, pickle_out) \n",
    "pickle_out.close()"
   ]
  },
  {
   "cell_type": "code",
   "execution_count": null,
   "id": "a1c8eedd",
   "metadata": {},
   "outputs": [],
   "source": [
    "scaled_df_std.sample(3)\n"
   ]
  },
  {
   "cell_type": "code",
   "execution_count": null,
   "id": "c434515d",
   "metadata": {},
   "outputs": [],
   "source": []
  },
  {
   "cell_type": "code",
   "execution_count": null,
   "id": "7d542837",
   "metadata": {},
   "outputs": [],
   "source": []
  },
  {
   "cell_type": "code",
   "execution_count": null,
   "id": "ec91e653",
   "metadata": {},
   "outputs": [],
   "source": []
  }
 ],
 "metadata": {
  "kernelspec": {
   "display_name": "Python 3 (ipykernel)",
   "language": "python",
   "name": "python3"
  },
  "language_info": {
   "codemirror_mode": {
    "name": "ipython",
    "version": 3
   },
   "file_extension": ".py",
   "mimetype": "text/x-python",
   "name": "python",
   "nbconvert_exporter": "python",
   "pygments_lexer": "ipython3",
   "version": "3.9.12"
  }
 },
 "nbformat": 4,
 "nbformat_minor": 5
}
